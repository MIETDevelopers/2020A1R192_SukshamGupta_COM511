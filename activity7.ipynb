{
 "cells": [
  {
   "cell_type": "code",
   "execution_count": 4,
   "id": "361b3b73",
   "metadata": {},
   "outputs": [
    {
     "name": "stdout",
     "output_type": "stream",
     "text": [
      "40.00 C is equivalent to : 104.00 F\n"
     ]
    }
   ],
   "source": [
    "#Temperature in celsius\n",
    "c=40\n",
    "#Converting the temperature to\n",
    "#fehrenheit using the mentioned formula\n",
    "f=(c*1.8)+32\n",
    "print('%.2f C is equivalent to : %.2f F' %(c,f))"
   ]
  },
  {
   "cell_type": "code",
   "execution_count": 5,
   "id": "2da5aadb",
   "metadata": {},
   "outputs": [
    {
     "name": "stdout",
     "output_type": "stream",
     "text": [
      "Enter temperature in Celsius: 2\n",
      "2.0 degrees Celsius is equivalent to 35.6 degrees Fahrenheit\n"
     ]
    }
   ],
   "source": [
    "def convertTemp(c):  \n",
    "   # temperature in Fahrenheit\n",
    "   f = (c * 1.8) + 32\n",
    "   return f\n",
    "\n",
    "cel = float(input('Enter temperature in Celsius: '))\n",
    "\n",
    "# calling function and display result\n",
    "fahr = convertTemp(cel)\n",
    "print('%0.1f degrees Celsius is equivalent to %0.1f degrees Fahrenheit' %(cel, fahr))"
   ]
  },
  {
   "cell_type": "code",
   "execution_count": 6,
   "id": "e62cae51",
   "metadata": {},
   "outputs": [
    {
     "name": "stdout",
     "output_type": "stream",
     "text": [
      "Enter temperature in Fahrenheit: 35.6\n",
      "35.6 degrees Fahrenheit is equivalent to 2.0  degrees Celsius\n"
     ]
    }
   ],
   "source": [
    "def convertTemp(f):  #user-defined function\n",
    "   # find temperature in Celsius\n",
    "   c = (f-32) / 1.8\n",
    "   return c\n",
    "\n",
    "# take inputs\n",
    "fahr = float(input('Enter temperature in Fahrenheit: '))\n",
    "\n",
    "# calling function and display result\n",
    "cel = convertTemp(fahr)\n",
    "print('%0.1f degrees Fahrenheit is equivalent to %0.1f  degrees Celsius' %(fahr, cel))\n",
    "                            "
   ]
  },
  {
   "cell_type": "code",
   "execution_count": null,
   "id": "bad42149",
   "metadata": {},
   "outputs": [],
   "source": []
  }
 ],
 "metadata": {
  "kernelspec": {
   "display_name": "Python 3 (ipykernel)",
   "language": "python",
   "name": "python3"
  },
  "language_info": {
   "codemirror_mode": {
    "name": "ipython",
    "version": 3
   },
   "file_extension": ".py",
   "mimetype": "text/x-python",
   "name": "python",
   "nbconvert_exporter": "python",
   "pygments_lexer": "ipython3",
   "version": "3.9.12"
  }
 },
 "nbformat": 4,
 "nbformat_minor": 5
}
