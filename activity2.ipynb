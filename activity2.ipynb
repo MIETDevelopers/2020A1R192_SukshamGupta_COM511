{
 "cells": [
  {
   "cell_type": "code",
   "execution_count": 1,
   "id": "ba347267",
   "metadata": {},
   "outputs": [
    {
     "name": "stdout",
     "output_type": "stream",
     "text": [
      "obj 1 : 1\n",
      "obj 2 : 4\n",
      "obj 3 : 5\n",
      "obj 4 : apple\n",
      "obj 5 : 6\n",
      "obj 6 : Blue\n"
     ]
    }
   ],
   "source": [
    "#LIST\n",
    "#Method #1: Using For loop\n",
    "\n",
    "random=[1,4,5,\"apple\",6,\"Blue\"]\n",
    "count=len(random)\n",
    "\n",
    "for i in range(count):\n",
    "    print(\"obj\",i+1,\":\",random[i])"
   ]
  },
  {
   "cell_type": "code",
   "execution_count": 2,
   "id": "9500b53f",
   "metadata": {},
   "outputs": [
    {
     "name": "stdout",
     "output_type": "stream",
     "text": [
      "1\n",
      "2\n",
      "5\n",
      "6\n",
      "7\n",
      "9\n",
      "7\n"
     ]
    }
   ],
   "source": [
    "#Method #2: For loop and range()\n",
    "\n",
    "item=[1,2,5,6,7,9,7]\n",
    "count=len(item)\n",
    "\n",
    "for i in range(count):\n",
    "    print(item[i])"
   ]
  },
  {
   "cell_type": "code",
   "execution_count": 3,
   "id": "d28f2203",
   "metadata": {},
   "outputs": [
    {
     "name": "stdout",
     "output_type": "stream",
     "text": [
      "1\n",
      "2\n",
      "5\n",
      "6\n",
      "7\n",
      "9\n"
     ]
    }
   ],
   "source": [
    "#Method #3: Using while loop\n",
    "\n",
    "l=[1,2,5,6,7,9]\n",
    "length=len(l)\n",
    "i=0\n",
    "while i<length:\n",
    "    print(l[i])\n",
    "    i+=1"
   ]
  },
  {
   "cell_type": "code",
   "execution_count": 4,
   "id": "bd6157d8",
   "metadata": {},
   "outputs": [
    {
     "name": "stdout",
     "output_type": "stream",
     "text": [
      "1\n",
      "2\n",
      "5\n",
      "6\n",
      "7\n",
      "9\n",
      "1\n"
     ]
    },
    {
     "data": {
      "text/plain": [
       "[None, None, None, None, None, None, None]"
      ]
     },
     "execution_count": 4,
     "metadata": {},
     "output_type": "execute_result"
    }
   ],
   "source": [
    "#Method #4: Using list comprehension (Possibly the most concrete way)\n",
    "l=[1,2,5,6,7,9,1]\n",
    "[print(i) for i in l]"
   ]
  },
  {
   "cell_type": "code",
   "execution_count": 5,
   "id": "edc5761d",
   "metadata": {},
   "outputs": [
    {
     "name": "stdout",
     "output_type": "stream",
     "text": [
      "dict_keys(['Gujarat', 'Maharashtra', 'Rajasthan', 'Bihar'])\n"
     ]
    }
   ],
   "source": [
    "#DICTIONARY\n",
    "#Example 1: Access key using the build .keys()\n",
    "\n",
    "place={\"Gujarat\":\"Gandhinagar\",\"Maharashtra\":\"Mumbai\",\"Rajasthan\":\"Jaipur\",\"Bihar\":\"Patna\" }\n",
    "print(place.keys())"
   ]
  },
  {
   "cell_type": "code",
   "execution_count": 6,
   "id": "77899047",
   "metadata": {},
   "outputs": [
    {
     "name": "stdout",
     "output_type": "stream",
     "text": [
      "Gujarat\n",
      "Maharashtra\n",
      "Rajasthan\n",
      "Bihar\n"
     ]
    }
   ],
   "source": [
    "#Example 2: Access key without using a key()\n",
    "\n",
    "p={\"Gujarat\":\"Gandhinagar\",\"Maharashtra\":\"Mumbai\",\"Rajasthan\":\"Jaipur\",\"Bihar\":\"Patna\" }\n",
    "for state in p:\n",
    "    print(state)"
   ]
  },
  {
   "cell_type": "code",
   "execution_count": 7,
   "id": "c0c87d18",
   "metadata": {},
   "outputs": [
    {
     "name": "stdout",
     "output_type": "stream",
     "text": [
      "dict_values(['Gandhinagar', 'Mumbai', 'Jaipur', 'Patna'])\n"
     ]
    }
   ],
   "source": [
    "#Example 3: Iterate through all values using .values()\n",
    "\n",
    "p={\"Gujarat\":\"Gandhinagar\",\"Maharashtra\":\"Mumbai\",\"Rajasthan\":\"Jaipur\",\"Bihar\":\"Patna\" }\n",
    "print(p.values())"
   ]
  },
  {
   "cell_type": "code",
   "execution_count": 8,
   "id": "01ae081e",
   "metadata": {},
   "outputs": [
    {
     "name": "stdout",
     "output_type": "stream",
     "text": [
      "Gujarat : Gandhinagar\n",
      "Maharashtra : Mumbai\n",
      "Rajasthan : Jaipur\n",
      "Bihar : Patna\n"
     ]
    }
   ],
   "source": [
    "#Example 4: Iterate through all key, and value pairs using items()\n",
    "\n",
    "pl={\"Gujarat\":\"Gandhinagar\",\"Maharashtra\":\"Mumbai\",\"Rajasthan\":\"Jaipur\",\"Bihar\":\"Patna\" }\n",
    "for i in pl:\n",
    "    print(i,\":\",pl[i])"
   ]
  },
  {
   "cell_type": "code",
   "execution_count": 9,
   "id": "3fa83cce",
   "metadata": {},
   "outputs": [
    {
     "name": "stdout",
     "output_type": "stream",
     "text": [
      "Gujarat -> Gandhinagar\n",
      "Maharashtra -> Mumbai\n",
      "Rajasthan -> Jaipur\n",
      "Bihar -> Patna\n"
     ]
    }
   ],
   "source": [
    "#Example 5: Access both key and value without using items()\n",
    "\n",
    "p={\"Gujarat\":\"Gandhinagar\",\"Maharashtra\":\"Mumbai\",\"Rajasthan\":\"Jaipur\",\"Bihar\":\"Patna\" }\n",
    "for i in p:\n",
    "    print( i, \"->\",p[i])"
   ]
  },
  {
   "cell_type": "code",
   "execution_count": 10,
   "id": "a9caa566",
   "metadata": {},
   "outputs": [
    {
     "name": "stdout",
     "output_type": "stream",
     "text": [
      "dict_items([('Gujarat', 'Gandhinagar'), ('Maharashtra', 'Mumbai'), ('Rajasthan', 'Jaipur'), ('Bihar', 'Patna')])\n"
     ]
    }
   ],
   "source": [
    "#Example 6: Print items in Key-Value in pair\n",
    "\n",
    "p={\"Gujarat\":\"Gandhinagar\",\"Maharashtra\":\"Mumbai\",\"Rajasthan\":\"Jaipur\",\"Bihar\":\"Patna\" }\n",
    "print(p.items())"
   ]
  },
  {
   "cell_type": "code",
   "execution_count": null,
   "id": "46f25d32",
   "metadata": {},
   "outputs": [],
   "source": []
  }
 ],
 "metadata": {
  "kernelspec": {
   "display_name": "Python 3 (ipykernel)",
   "language": "python",
   "name": "python3"
  },
  "language_info": {
   "codemirror_mode": {
    "name": "ipython",
    "version": 3
   },
   "file_extension": ".py",
   "mimetype": "text/x-python",
   "name": "python",
   "nbconvert_exporter": "python",
   "pygments_lexer": "ipython3",
   "version": "3.9.12"
  }
 },
 "nbformat": 4,
 "nbformat_minor": 5
}
