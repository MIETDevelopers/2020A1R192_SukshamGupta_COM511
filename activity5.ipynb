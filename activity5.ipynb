{
 "cells": [
  {
   "cell_type": "code",
   "execution_count": 1,
   "id": "335b7ea8",
   "metadata": {},
   "outputs": [
    {
     "name": "stdout",
     "output_type": "stream",
     "text": [
      "original list is [[5, 6, 2], [25, 4, 13], [4, 6, 3], [7, 40, 4], [9, 7, 8], [5, 3, 1]]\n",
      "enter the index no.2\n",
      "after reversing: [[2, 6, 5], [25, 4, 13], [3, 6, 4], [7, 40, 4], [8, 7, 9], [5, 3, 1]]\n"
     ]
    }
   ],
   "source": [
    "#To reverse every kth row in matrix\n",
    "lst = [[5,6,2],[25,4,13],[4,6,3],[7,40,4],[9,7,8],[5,3,1]]\n",
    "\n",
    "print(\"original list is\",lst)\n",
    "k = int(input(\"enter the index no.\"))\n",
    "new_lst = []\n",
    "for i,ele in enumerate(lst):\n",
    "    if i%k == 0:\n",
    "        new_lst.append(list(reversed(ele)))\n",
    "    else:\n",
    "        new_lst.append(ele)\n",
    "        \n",
    "print(\"after reversing:\",new_lst)"
   ]
  },
  {
   "cell_type": "code",
   "execution_count": null,
   "id": "8cebfe9f",
   "metadata": {},
   "outputs": [],
   "source": []
  }
 ],
 "metadata": {
  "kernelspec": {
   "display_name": "Python 3 (ipykernel)",
   "language": "python",
   "name": "python3"
  },
  "language_info": {
   "codemirror_mode": {
    "name": "ipython",
    "version": 3
   },
   "file_extension": ".py",
   "mimetype": "text/x-python",
   "name": "python",
   "nbconvert_exporter": "python",
   "pygments_lexer": "ipython3",
   "version": "3.9.12"
  }
 },
 "nbformat": 4,
 "nbformat_minor": 5
}
