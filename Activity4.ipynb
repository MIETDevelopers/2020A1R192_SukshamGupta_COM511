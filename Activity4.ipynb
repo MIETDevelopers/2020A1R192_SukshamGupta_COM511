{
 "cells": [
  {
   "cell_type": "code",
   "execution_count": 1,
   "id": "b5bcc461",
   "metadata": {},
   "outputs": [
    {
     "name": "stdout",
     "output_type": "stream",
     "text": [
      "Given list is: [1, 23, 45, 23, 34, 56, 12, 45, 67, 24]\n",
      "Element 12 is at position: 6\n"
     ]
    }
   ],
   "source": [
    "#Linear search\n",
    "def LinearSearch(input_list: list, element: int):\n",
    "    list_len = len(input_list)\n",
    "    for i in range(list_len):\n",
    "        if input_list[i] == element:\n",
    "            return i\n",
    "    return -1\n",
    "\n",
    "myList = [1, 23, 45, 23, 34, 56, 12, 45, 67, 24]\n",
    "print(\"Given list is:\", myList)\n",
    "position = LinearSearch(myList, 12)\n",
    "print(\"Element 12 is at position:\", position)"
   ]
  },
  {
   "cell_type": "code",
   "execution_count": 4,
   "id": "9d1f97c9",
   "metadata": {},
   "outputs": [
    {
     "name": "stdout",
     "output_type": "stream",
     "text": [
      "The given array is [1, 2, 3, 4, 5, 6, 7]\n",
      "Element to be found is  4\n",
      "The Index of the element is 3\n"
     ]
    }
   ],
   "source": [
    "#Binary Search\n",
    "def binary_search(arr, a, low, high):\n",
    "\n",
    "    # Repeat until low and high meet each other\n",
    "    while low <= high:\n",
    "        mid = low + (high - low)//2\n",
    "\n",
    "        if arr[mid] == a:\n",
    "            return mid\n",
    "\n",
    "        elif array[mid] < a:\n",
    "            low = mid + 1\n",
    "\n",
    "        else:\n",
    "            high = mid - 1\n",
    "\n",
    "    return -1\n",
    "\n",
    "arr = [1, 2, 3, 4, 5, 6, 7]\n",
    "a = 4\n",
    "#printing the array\n",
    "print(\"The given array is\", arr)\n",
    "\n",
    "#printing element to be found\n",
    "print(\"Element to be found is \", a)\n",
    "\n",
    "index = binary_search(arr, a, 0, len(arr)-1)\n",
    "\n",
    "if index != -1:\n",
    "    print(\"The Index of the element is \" + str(index))\n",
    "else:\n",
    "    print(\"Element Not found\")"
   ]
  },
  {
   "cell_type": "code",
   "execution_count": null,
   "id": "c3bcbd76",
   "metadata": {},
   "outputs": [],
   "source": []
  }
 ],
 "metadata": {
  "kernelspec": {
   "display_name": "Python 3 (ipykernel)",
   "language": "python",
   "name": "python3"
  },
  "language_info": {
   "codemirror_mode": {
    "name": "ipython",
    "version": 3
   },
   "file_extension": ".py",
   "mimetype": "text/x-python",
   "name": "python",
   "nbconvert_exporter": "python",
   "pygments_lexer": "ipython3",
   "version": "3.9.12"
  }
 },
 "nbformat": 4,
 "nbformat_minor": 5
}
